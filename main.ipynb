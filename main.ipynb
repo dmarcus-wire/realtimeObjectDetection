{
 "cells": [
  {
   "cell_type": "markdown",
   "metadata": {
    "collapsed": true,
    "pycharm": {
     "name": "#%% md\n"
    }
   },
   "source": [
    "Import packages"
   ]
  },
  {
   "cell_type": "code",
   "execution_count": 7,
   "outputs": [],
   "source": [
    "# import the necessary packages\n",
    "from matplotlib import pyplot as plt\n",
    "from imutils.video import FPS\n",
    "import numpy as np\n",
    "import argparse\n",
    "import imutils\n",
    "import cv2"
   ],
   "metadata": {
    "collapsed": false,
    "pycharm": {
     "name": "#%%\n"
    }
   }
  },
  {
   "cell_type": "markdown",
   "source": [
    "Display function for Jupyter Notebooks"
   ],
   "metadata": {
    "collapsed": false,
    "pycharm": {
     "name": "#%% md\n"
    }
   }
  },
  {
   "cell_type": "code",
   "execution_count": 8,
   "outputs": [],
   "source": [
    "def plt_imshow(title, image):\n",
    "\t# convert the image frame BGR to RGB color space and display it\n",
    "\timage = cv2.cvtColor(image, cv2.COLOR_BGR2RGB)\n",
    "\tplt.imshow(image)\n",
    "\tplt.title(title)\n",
    "\tplt.grid(False)\n",
    "\tplt.show()"
   ],
   "metadata": {
    "collapsed": false,
    "pycharm": {
     "name": "#%%\n"
    }
   }
  },
  {
   "cell_type": "markdown",
   "source": [
    "Argument parser"
   ],
   "metadata": {
    "collapsed": false,
    "pycharm": {
     "name": "#%% md\n"
    }
   }
  },
  {
   "cell_type": "code",
   "execution_count": 9,
   "outputs": [],
   "source": [
    "# since we are using Jupyter Notebooks we can replace our argument\n",
    "# parsing code with *hard coded* arguments and values\n",
    "args = {\n",
    "\t\"input\" : \"video/monstermax-diesel.mp4\",\n",
    "\t\"output\" : \"output.avi\",\n",
    "\t\"prototxt\": \"MobileNetSSD_deploy.prototxt.txt\",\n",
    "\t\"model\": \"MobileNetSSD_deploy.caffemodel\",\n",
    "\t\"confidence\" : 0.5\n",
    "}"
   ],
   "metadata": {
    "collapsed": false,
    "pycharm": {
     "name": "#%%\n"
    }
   }
  },
  {
   "cell_type": "code",
   "source": [
    "# initialize the list of class labels MobileNet SSD was trained to\n",
    "# detect, then generate a set of bounding box colors for each class\n",
    "CLASSES = [\"background\", \"aeroplane\", \"bicycle\", \"bird\", \"boat\",\n",
    "\t\"bottle\", \"bus\", \"car\", \"cat\", \"chair\", \"cow\", \"diningtable\",\n",
    "\t\"dog\", \"horse\", \"motorbike\", \"person\", \"pottedplant\", \"sheep\",\n",
    "\t\"sofa\", \"train\", \"tvmonitor\"]\n",
    "COLORS = np.random.uniform(0, 255, size=(len(CLASSES), 3))\n",
    "\n",
    "# load our serialized model from disk\n",
    "print(\"[INFO] loading model...\")\n",
    "net = cv2.dnn.readNetFromCaffe(args[\"prototxt\"], args[\"model\"])"
   ],
   "metadata": {
    "collapsed": false,
    "pycharm": {
     "name": "#%%\n"
    }
   },
   "execution_count": 10,
   "outputs": [
    {
     "name": "stdout",
     "output_type": "stream",
     "text": [
      "[INFO] loading model...\n"
     ]
    }
   ]
  },
  {
   "cell_type": "code",
   "execution_count": 11,
   "outputs": [
    {
     "name": "stdout",
     "output_type": "stream",
     "text": [
      "[INFO] opening video file...\n"
     ]
    }
   ],
   "source": [
    "# grab a reference to the video file, initialize pointer to output\n",
    "# video file, and initialize the FPS counter\n",
    "print(\"[INFO] opening video file...\")\n",
    "vs = cv2.VideoCapture(args[\"input\"])\n",
    "writer = None\n",
    "fps = FPS().start()"
   ],
   "metadata": {
    "collapsed": false,
    "pycharm": {
     "name": "#%%\n"
    }
   }
  },
  {
   "cell_type": "code",
   "execution_count": 12,
   "outputs": [
    {
     "name": "stdout",
     "output_type": "stream",
     "text": [
      "[INFO] elapsed time: 90.17\n",
      "[INFO] approx. FPS: 42.53\n"
     ]
    }
   ],
   "source": [
    "# loop over the frames from the video stream\n",
    "while True:\n",
    "\t# grab the next frame\n",
    "\tframe = vs.read()[1]\n",
    "\n",
    "\t# if we did not grab a frame then we have reached the end of the\n",
    "\t# video\n",
    "\tif frame is None:\n",
    "\t\tbreak\n",
    "\n",
    "\t# resize the frame to have a maximum width of 400 pixels\n",
    "\tframe = imutils.resize(frame, width=400)\n",
    "\n",
    "\t# grab the frame dimensions and convert it to a blob\n",
    "\t(h, w) = frame.shape[:2]\n",
    "\tblob = cv2.dnn.blobFromImage(frame, 0.007843, (300, 300), 127.5)\n",
    "\n",
    "\t# pass the blob through the network and obtain the detections and\n",
    "\t# predictions\n",
    "\tnet.setInput(blob)\n",
    "\tdetections = net.forward()\n",
    "\n",
    " \t# loop over the detections\n",
    "\tfor i in np.arange(0, detections.shape[2]):\n",
    "\t\t# extract the confidence (i.e., probability) associated with\n",
    "\t\t# the prediction\n",
    "\t\tconfidence = detections[0, 0, i, 2]\n",
    "\n",
    "\t\t# filter out weak detections by ensuring the `confidence` is\n",
    "\t\t# greater than the minimum confidence\n",
    "\t\tif confidence > args[\"confidence\"]:\n",
    "\t\t\t# extract the index of the class label from the\n",
    "\t\t\t# `detections`, then compute the (x, y)-coordinates of\n",
    "\t\t\t# the bounding box for the object\n",
    "\t\t\tidx = int(detections[0, 0, i, 1])\n",
    "\t\t\tbox = detections[0, 0, i, 3:7] * np.array([w, h, w, h])\n",
    "\t\t\t(startX, startY, endX, endY) = box.astype(\"int\")\n",
    "\n",
    "\t\t\t# draw the prediction on the frame\n",
    "\t\t\tlabel = \"{}: {:.2f}%\".format(CLASSES[idx],\n",
    "\t\t\t\tconfidence * 100)\n",
    "\t\t\tcv2.rectangle(frame, (startX, startY), (endX, endY),\n",
    "\t\t\t\tCOLORS[idx], 2)\n",
    "\t\t\ty = startY - 15 if startY - 15 > 15 else startY + 15\n",
    "\t\t\tcv2.putText(frame, label, (startX, y),\n",
    "\t\t\t\tcv2.FONT_HERSHEY_SIMPLEX, 0.5, COLORS[idx], 2)\n",
    "\n",
    "\t# update the FPS counter\n",
    "\tfps.update()\n",
    "\n",
    "\t# if the video writer is None *AND* we are supposed to write\n",
    "\t# the output video to disk initialize the writer\n",
    "\tif writer is None and args[\"output\"] is not None:\n",
    "\t\tfourcc = cv2.VideoWriter_fourcc(*\"MJPG\")\n",
    "\t\twriter = cv2.VideoWriter(args[\"output\"], fourcc, 20,\n",
    "\t\t\t(frame.shape[1], frame.shape[0]), True)\n",
    "\n",
    "\t# if the writer is not None, write the frame with recognized\n",
    "\t# faces to disk\n",
    "\tif writer is not None:\n",
    "\t\twriter.write(frame)\n",
    "\n",
    "# stop the timer and display FPS information\n",
    "fps.stop()\n",
    "print(\"[INFO] elapsed time: {:.2f}\".format(fps.elapsed()))\n",
    "print(\"[INFO] approx. FPS: {:.2f}\".format(fps.fps()))\n",
    "\n",
    "# do a bit of cleanup\n",
    "vs.release()\n",
    "\n",
    "# check to see if the video writer point needs to be released\n",
    "if writer is not None:\n",
    "\twriter.release()"
   ],
   "metadata": {
    "collapsed": false,
    "pycharm": {
     "name": "#%%\n"
    }
   }
  },
  {
   "cell_type": "code",
   "execution_count": 13,
   "outputs": [
    {
     "name": "stdout",
     "output_type": "stream",
     "text": [
      "ffmpeg version 4.3.1 Copyright (c) 2000-2020 the FFmpeg developers\r\n",
      "  built with Apple clang version 12.0.0 (clang-1200.0.32.27)\r\n",
      "  configuration: --prefix=/usr/local/Cellar/ffmpeg/4.3.1_4 --enable-shared --enable-pthreads --enable-version3 --enable-avresample --cc=clang --host-cflags= --host-ldflags= --enable-ffplay --enable-gnutls --enable-gpl --enable-libaom --enable-libbluray --enable-libdav1d --enable-libmp3lame --enable-libopus --enable-librav1e --enable-librubberband --enable-libsnappy --enable-libsrt --enable-libtesseract --enable-libtheora --enable-libvidstab --enable-libvorbis --enable-libvpx --enable-libwebp --enable-libx264 --enable-libx265 --enable-libxml2 --enable-libxvid --enable-lzma --enable-libfontconfig --enable-libfreetype --enable-frei0r --enable-libass --enable-libopencore-amrnb --enable-libopencore-amrwb --enable-libopenjpeg --enable-librtmp --enable-libspeex --enable-libsoxr --enable-videotoolbox --disable-libjack --disable-indev=jack\r\n",
      "  libavutil      56. 51.100 / 56. 51.100\r\n",
      "  libavcodec     58. 91.100 / 58. 91.100\r\n",
      "  libavformat    58. 45.100 / 58. 45.100\r\n",
      "  libavdevice    58. 10.100 / 58. 10.100\r\n",
      "  libavfilter     7. 85.100 /  7. 85.100\r\n",
      "  libavresample   4.  0.  0 /  4.  0.  0\r\n",
      "  libswscale      5.  7.100 /  5.  7.100\r\n",
      "  libswresample   3.  7.100 /  3.  7.100\r\n",
      "  libpostproc    55.  7.100 / 55.  7.100\r\n",
      "Input #0, avi, from 'output.avi':\r\n",
      "  Metadata:\r\n",
      "    encoder         : Lavf58.76.100\r\n",
      "  Duration: 00:03:11.75, start: 0.000000, bitrate: 2793 kb/s\r\n",
      "    Stream #0:0: Video: mjpeg (Baseline) (MJPG / 0x47504A4D), yuvj420p(pc, bt470bg/unknown/unknown), 400x224, 2789 kb/s, 20 fps, 20 tbr, 20 tbn, 20 tbc\r\n",
      "Stream mapping:\r\n",
      "  Stream #0:0 -> #0:0 (mjpeg (native) -> h264 (libx264))\r\n",
      "Press [q] to stop, [?] for help\r\n",
      "\u001B[1;36m[libx264 @ 0x7fcb95019a00] \u001B[0musing cpu capabilities: MMX2 SSE2Fast SSSE3 SSE4.2 AVX FMA3 BMI2 AVX2\r\n",
      "\u001B[1;36m[libx264 @ 0x7fcb95019a00] \u001B[0mprofile High, level 1.3, 4:2:0, 8-bit\r\n",
      "\u001B[1;36m[libx264 @ 0x7fcb95019a00] \u001B[0m264 - core 161 r3027 4121277 - H.264/MPEG-4 AVC codec - Copyleft 2003-2020 - http://www.videolan.org/x264.html - options: cabac=1 ref=3 deblock=1:0:0 analyse=0x3:0x113 me=hex subme=7 psy=1 psy_rd=1.00:0.00 mixed_ref=1 me_range=16 chroma_me=1 trellis=1 8x8dct=1 cqm=0 deadzone=21,11 fast_pskip=1 chroma_qp_offset=-2 threads=7 lookahead_threads=1 sliced_threads=0 nr=0 decimate=1 interlaced=0 bluray_compat=0 constrained_intra=0 bframes=3 b_pyramid=2 b_adapt=1 b_bias=0 direct=1 weightb=1 open_gop=0 weightp=2 keyint=250 keyint_min=20 scenecut=40 intra_refresh=0 rc_lookahead=40 rc=crf mbtree=1 crf=23.0 qcomp=0.60 qpmin=0 qpmax=69 qpstep=4 ip_ratio=1.40 aq=1:1.00\r\n",
      "Output #0, mp4, to 'output.mp4':\r\n",
      "  Metadata:\r\n",
      "    encoder         : Lavf58.45.100\r\n",
      "    Stream #0:0: Video: h264 (libx264) (avc1 / 0x31637661), yuvj420p(pc), 400x224, q=-1--1, 20 fps, 10240 tbn, 20 tbc\r\n",
      "    Metadata:\r\n",
      "      encoder         : Lavc58.91.100 libx264\r\n",
      "    Side data:\r\n",
      "      cpb: bitrate max/min/avg: 0/0/0 buffer size: 0 vbv_delay: N/A\r\n",
      "frame= 3835 fps=567 q=-1.0 Lsize=   11400kB time=00:03:11.60 bitrate= 487.4kbits/s speed=28.3x    \r\n",
      "video:11355kB audio:0kB subtitle:0kB other streams:0kB global headers:0kB muxing overhead: 0.396431%\r\n",
      "\u001B[1;36m[libx264 @ 0x7fcb95019a00] \u001B[0mframe I:29    Avg QP:22.14  size: 14222\r\n",
      "\u001B[1;36m[libx264 @ 0x7fcb95019a00] \u001B[0mframe P:1111  Avg QP:24.42  size:  6019\r\n",
      "\u001B[1;36m[libx264 @ 0x7fcb95019a00] \u001B[0mframe B:2695  Avg QP:28.02  size:  1680\r\n",
      "\u001B[1;36m[libx264 @ 0x7fcb95019a00] \u001B[0mconsecutive B-frames:  4.2%  5.0%  4.3% 86.6%\r\n",
      "\u001B[1;36m[libx264 @ 0x7fcb95019a00] \u001B[0mmb I  I16..4:  6.6% 76.1% 17.3%\r\n",
      "\u001B[1;36m[libx264 @ 0x7fcb95019a00] \u001B[0mmb P  I16..4:  4.2% 23.5%  4.5%  P16..4: 23.0% 22.3% 15.6%  0.0%  0.0%    skip: 6.9%\r\n",
      "\u001B[1;36m[libx264 @ 0x7fcb95019a00] \u001B[0mmb B  I16..4:  0.8%  2.8%  0.9%  B16..8: 33.0% 12.8%  4.4%  direct: 5.5%  skip:39.7%  L0:37.6% L1:39.2% BI:23.3%\r\n",
      "\u001B[1;36m[libx264 @ 0x7fcb95019a00] \u001B[0m8x8 transform intra:70.4% inter:58.8%\r\n",
      "\u001B[1;36m[libx264 @ 0x7fcb95019a00] \u001B[0mcoded y,uvDC,uvAC intra: 68.6% 69.2% 18.5% inter: 25.6% 19.1% 5.1%\r\n",
      "\u001B[1;36m[libx264 @ 0x7fcb95019a00] \u001B[0mi16 v,h,dc,p: 16% 61%  5% 18%\r\n",
      "\u001B[1;36m[libx264 @ 0x7fcb95019a00] \u001B[0mi8 v,h,dc,ddl,ddr,vr,hd,vl,hu: 13% 41% 28%  2%  2%  2%  4%  2%  5%\r\n",
      "\u001B[1;36m[libx264 @ 0x7fcb95019a00] \u001B[0mi4 v,h,dc,ddl,ddr,vr,hd,vl,hu: 21% 30% 13%  5%  6%  5%  8%  5%  7%\r\n",
      "\u001B[1;36m[libx264 @ 0x7fcb95019a00] \u001B[0mi8c dc,h,v,p: 37% 42% 16%  4%\r\n",
      "\u001B[1;36m[libx264 @ 0x7fcb95019a00] \u001B[0mWeighted P-Frames: Y:13.4% UV:3.7%\r\n",
      "\u001B[1;36m[libx264 @ 0x7fcb95019a00] \u001B[0mref P L0: 52.9% 19.0% 18.6%  8.7%  0.8%\r\n",
      "\u001B[1;36m[libx264 @ 0x7fcb95019a00] \u001B[0mref B L0: 86.0% 10.9%  3.1%\r\n",
      "\u001B[1;36m[libx264 @ 0x7fcb95019a00] \u001B[0mref B L1: 94.8%  5.2%\r\n",
      "\u001B[1;36m[libx264 @ 0x7fcb95019a00] \u001B[0mkb/s:485.07\r\n"
     ]
    }
   ],
   "source": [
    "!ffmpeg -i output.avi output.mp4"
   ],
   "metadata": {
    "collapsed": false,
    "pycharm": {
     "name": "#%%\n"
    }
   }
  }
 ],
 "metadata": {
  "kernelspec": {
   "display_name": "Python 3",
   "language": "python",
   "name": "python3"
  },
  "language_info": {
   "codemirror_mode": {
    "name": "ipython",
    "version": 2
   },
   "file_extension": ".py",
   "mimetype": "text/x-python",
   "name": "python",
   "nbconvert_exporter": "python",
   "pygments_lexer": "ipython2",
   "version": "2.7.6"
  }
 },
 "nbformat": 4,
 "nbformat_minor": 0
}